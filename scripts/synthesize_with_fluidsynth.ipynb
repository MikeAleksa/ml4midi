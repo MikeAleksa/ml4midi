{
 "cells": [
  {
   "cell_type": "code",
   "execution_count": null,
   "metadata": {},
   "outputs": [],
   "source": [
    "\"\"\"\n",
    "Synthesize all .mid files to .wav files using FluidSynth\n",
    "\"\"\"\n",
    "from pathlib import Path\n",
    "\n",
    "import music_generator.utilities.utils as utils\n",
    "\n",
    "for folder in Path('./music_generator/generated_files/').glob('*temperature*'):\n",
    "    utils.synthesize_midi_files(folder)"
   ]
  }
 ],
 "metadata": {
  "kernelspec": {
   "display_name": "tensorflow2",
   "language": "python",
   "name": "tensorflow2"
  },
  "language_info": {
   "codemirror_mode": {
    "name": "ipython",
    "version": 3
   },
   "file_extension": ".py",
   "mimetype": "text/x-python",
   "name": "python",
   "nbconvert_exporter": "python",
   "pygments_lexer": "ipython3",
   "version": "3.7.6"
  }
 },
 "nbformat": 4,
 "nbformat_minor": 4
}
