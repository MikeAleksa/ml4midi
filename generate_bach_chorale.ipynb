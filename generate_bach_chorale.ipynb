{
 "cells": [
  {
   "cell_type": "markdown",
   "metadata": {},
   "source": [
    "# Generate MIDI files in the style of a Bach Chorale"
   ]
  },
  {
   "cell_type": "code",
   "execution_count": 1,
   "metadata": {},
   "outputs": [],
   "source": [
    "from music_generator.model import MusicModel\n",
    "from music_generator.serializers.discrete_time_serializer import DiscreteTimeMidiSerializer\n",
    "import music_generator.utilities.utils as utils"
   ]
  },
  {
   "cell_type": "markdown",
   "metadata": {},
   "source": [
    "# Make sure CUDA and GPU are working"
   ]
  },
  {
   "cell_type": "code",
   "execution_count": 2,
   "metadata": {},
   "outputs": [
    {
     "name": "stdout",
     "output_type": "stream",
     "text": [
      "CUDA and GPU Available.\n"
     ]
    }
   ],
   "source": [
    "for message in utils.check_cuda_and_gpu():\n",
    "    print(message)"
   ]
  },
  {
   "cell_type": "markdown",
   "metadata": {},
   "source": [
    "# Create model"
   ]
  },
  {
   "cell_type": "code",
   "execution_count": 6,
   "metadata": {},
   "outputs": [],
   "source": [
    "model = MusicModel()"
   ]
  },
  {
   "cell_type": "markdown",
   "metadata": {},
   "source": [
    "# Load Checkpoint for Bach Chorales"
   ]
  },
  {
   "cell_type": "code",
   "execution_count": 4,
   "metadata": {},
   "outputs": [],
   "source": [
    "ckpt_dir = './training_checkpoints/bach_chorales'\n",
    "model.load_checkpoint(ckpt_dir, use_latest=True)"
   ]
  },
  {
   "cell_type": "markdown",
   "metadata": {},
   "source": [
    "# Sample from model\n",
    "Create a set of generated MIDI files using a range of temperature settings and seeds for the model"
   ]
  },
  {
   "cell_type": "code",
   "execution_count": 5,
   "metadata": {},
   "outputs": [],
   "source": [
    "# Generate MIDI files using different seeds - these below represent a B-minor chord, a G7 chord, and an A-minor chord\n",
    "seeds = [[38, 47, 54, 62, 66],\n",
    "         [43, 55, 59, 62, 65],\n",
    "         [45, 60, 64, 69],\n",
    "         [79],\n",
    "         [95],\n",
    "         [42]]\n",
    "\n",
    "length = 2000\n",
    "temperatures = [0.5, 1.0, 1.2, 1.5]\n",
    "\n",
    "serializer = DiscreteTimeMidiSerializer()\n",
    "\n",
    "for temp in temperatures:\n",
    "    description = 'bach_chorales_temperature_{}'.format(temp)\n",
    "    for seed in seeds:\n",
    "        seed_string = '-'.join([str(x) for x in seed])\n",
    "        generated_sequence = model.generate_sequence(length, seed, temperature=temp)\n",
    "        serializer.deserialize(generated_sequence, './generated_files/{}'.format(description), 'sample_{}.mid'.format(seed_string))"
   ]
  }
 ],
 "metadata": {
  "kernelspec": {
   "display_name": "tensorflow2",
   "language": "python",
   "name": "tensorflow2"
  },
  "language_info": {
   "codemirror_mode": {
    "name": "ipython",
    "version": 3
   },
   "file_extension": ".py",
   "mimetype": "text/x-python",
   "name": "python",
   "nbconvert_exporter": "python",
   "pygments_lexer": "ipython3",
   "version": "3.7.6"
  }
 },
 "nbformat": 4,
 "nbformat_minor": 4
}
