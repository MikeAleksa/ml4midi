{
 "cells": [
  {
   "cell_type": "markdown",
   "metadata": {},
   "source": [
    "# Chopin Nocturnes\n",
    "## Find the most similar composition from the training data for a specific generated composition"
   ]
  },
  {
   "cell_type": "code",
   "execution_count": 1,
   "metadata": {},
   "outputs": [],
   "source": [
    "from music_generator.serializers.discrete_time_serializer import DiscreteTimeMidiSerializer\n",
    "import music_generator.utilities.sequence_utils as sequence_utils\n",
    "\n",
    "from pathlib import Path"
   ]
  },
  {
   "cell_type": "markdown",
   "metadata": {},
   "source": [
    "### Set up constants for generation and comparison"
   ]
  },
  {
   "cell_type": "code",
   "execution_count": 2,
   "metadata": {},
   "outputs": [],
   "source": [
    "serializer = DiscreteTimeMidiSerializer()\n",
    "window_size = 100"
   ]
  },
  {
   "cell_type": "markdown",
   "metadata": {},
   "source": [
    "# Convert a generated sequence to a hashable set of windows"
   ]
  },
  {
   "cell_type": "code",
   "execution_count": 21,
   "metadata": {},
   "outputs": [
    {
     "name": "stdout",
     "output_type": "stream",
     "text": [
      "1898\n"
     ]
    }
   ],
   "source": [
    "generated_file = Path('./generated_files/chopin_nocturnes_temperature_1.2/sample_45-60-64-69.mid')\n",
    "\n",
    "gen_sequence = serializer.serialize(generated_file)\n",
    "            \n",
    "# split generated sequence into subsequences\n",
    "gen_sequences, _ = sequence_utils.window([gen_sequence], window_size=window_size)\n",
    "\n",
    "# create a set of unique subsequences\n",
    "gen_set = set()\n",
    "for s in gen_sequences:\n",
    "    # turn subsequence into string so it is hashable\n",
    "    s = '-'.join([str(x) for x in s])\n",
    "    gen_set.add(s)\n",
    "print(len(gen_set))"
   ]
  },
  {
   "cell_type": "markdown",
   "metadata": {},
   "source": [
    "### Compare generated sequences to each composition from the training data"
   ]
  },
  {
   "cell_type": "code",
   "execution_count": 22,
   "metadata": {},
   "outputs": [
    {
     "name": "stdout",
     "output_type": "stream",
     "text": [
      "0.00% of unique windows from the generated composition exist in the training file: Nocturne op33 n2.mid.\n",
      "0.00% of unique windows from the generated composition exist in the training file: Nocturne op62 n2.mid.\n",
      "0.00% of unique windows from the generated composition exist in the training file: Nocturne op09 n3.mid.\n",
      "0.00% of unique windows from the generated composition exist in the training file: Nocturne op09 n2.mid.\n",
      "0.00% of unique windows from the generated composition exist in the training file: Nocturne op55 n2.mid.\n",
      "0.00% of unique windows from the generated composition exist in the training file: Nocturne op15 n3.mid.\n",
      "0.00% of unique windows from the generated composition exist in the training file: Nocturne op33 n4.mid.\n",
      "10.75% of unique windows from the generated composition exist in the training file: Nocturne op48 n1.mid.\n",
      "0.00% of unique windows from the generated composition exist in the training file: Nocturne op15 n2.mid.\n",
      "0.00% of unique windows from the generated composition exist in the training file: Nocturne op37 01.mid.\n",
      "0.00% of unique windows from the generated composition exist in the training file: Nocturne op32 n2.mid.\n",
      "0.00% of unique windows from the generated composition exist in the training file: Nocturne op32 n1.mid.\n",
      "0.00% of unique windows from the generated composition exist in the training file: Nocturne op48 n2.mid.\n",
      "0.00% of unique windows from the generated composition exist in the training file: Nocturne op27 n1.mid.\n",
      "0.00% of unique windows from the generated composition exist in the training file: Nocturne op37 n2.mid.\n",
      "0.00% of unique windows from the generated composition exist in the training file: Nocturne op27 n2.mid.\n",
      "38.57% of unique windows from the generated composition exist in the training file: Nocturne op55 n1.mid.\n",
      "0.00% of unique windows from the generated composition exist in the training file: Nocturne op72 n1.mid.\n"
     ]
    }
   ],
   "source": [
    "for training_file in Path('./training_data/chopin_nocturnes/').glob('*.mid'):\n",
    "\n",
    "    train_sequence = serializer.serialize(training_file)\n",
    "\n",
    "    # transpose and split generated sequence into subsequences\n",
    "    train_sequences = sequence_utils.transpose([train_sequence], down=-6, up=5)\n",
    "    train_sequences, _ = sequence_utils.window(train_sequences, window_size=window_size)\n",
    "\n",
    "    # create a set of unique subsequences\n",
    "    train_set = set()\n",
    "    for s in train_sequences:\n",
    "        # turn subsequence into string so it is hashable\n",
    "        s = '-'.join([str(x) for x in s])\n",
    "        train_set.add(s)\n",
    "\n",
    "    # find the intersection of the two sets to find all matching subsequences and calculate percentage of generated subsequences that come from the training data\n",
    "    matches = gen_set.intersection(train_set)\n",
    "    n_matches = len(matches)\n",
    "    total = len(gen_set)\n",
    "    percentage = n_matches/total * 100\n",
    "\n",
    "    # print results\n",
    "    print('{:.2f}% of unique windows from the generated composition exist in the training file: {}.'.format(percentage, training_file.name))"
   ]
  },
  {
   "cell_type": "markdown",
   "metadata": {},
   "source": [
    "# Analysis\n",
    "\n",
    "This test demonstrates that a high percentage of windows coming from the transposed training set does not necessarily mean it comes from a single composition.\n",
    "\n",
    "In this case, I compared a generated example that has about 50% of its windows coming from the training set, but the results show these windows come from more than one composition. This means a composition likely contains less \"copied\" material from the training set than the previous experiments indicated, which checked the percentage of windows from a generated composition that existed anywhere in the transposed training set."
   ]
  }
 ],
 "metadata": {
  "kernelspec": {
   "display_name": "tensorflow2",
   "language": "python",
   "name": "tensorflow2"
  },
  "language_info": {
   "codemirror_mode": {
    "name": "ipython",
    "version": 3
   },
   "file_extension": ".py",
   "mimetype": "text/x-python",
   "name": "python",
   "nbconvert_exporter": "python",
   "pygments_lexer": "ipython3",
   "version": "3.7.6"
  }
 },
 "nbformat": 4,
 "nbformat_minor": 4
}
