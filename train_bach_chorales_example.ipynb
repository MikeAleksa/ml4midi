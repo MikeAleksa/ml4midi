{
 "cells": [
  {
   "cell_type": "markdown",
   "metadata": {},
   "source": [
    "# Train Model on Large Training Set"
   ]
  },
  {
   "cell_type": "code",
   "execution_count": 1,
   "metadata": {},
   "outputs": [
    {
     "name": "stdout",
     "output_type": "stream",
     "text": [
      "TensorFlow version: 2.2.0-dev20200327\n"
     ]
    }
   ],
   "source": [
    "import tensorflow as tf\n",
    "from sklearn.model_selection import train_test_split\n",
    "\n",
    "import music_generator.sequence_utils as sequence_utils\n",
    "import music_generator.utils as utils\n",
    "from music_generator.midi_converter import DiscreteTimeMidiConverter\n",
    "from music_generator.model import MusicModel\n",
    "\n",
    "print('TensorFlow version:', tf.__version__)"
   ]
  },
  {
   "cell_type": "markdown",
   "metadata": {},
   "source": [
    "# Make sure CUDA and GPU are working"
   ]
  },
  {
   "cell_type": "code",
   "execution_count": 2,
   "metadata": {},
   "outputs": [
    {
     "name": "stdout",
     "output_type": "stream",
     "text": [
      "CUDA and GPU Available...\n"
     ]
    }
   ],
   "source": [
    "for message in utils.check_cuda_and_gpu():\n",
    "    print(message)"
   ]
  },
  {
   "cell_type": "markdown",
   "metadata": {},
   "source": [
    "# Create model"
   ]
  },
  {
   "cell_type": "code",
   "execution_count": 3,
   "metadata": {},
   "outputs": [
    {
     "name": "stdout",
     "output_type": "stream",
     "text": [
      "Model: \"sequential\"\n",
      "_________________________________________________________________\n",
      "Layer (type)                 Output Shape              Param #   \n",
      "=================================================================\n",
      "embedding (Embedding)        (None, None, 64)          24576     \n",
      "_________________________________________________________________\n",
      "lstm (LSTM)                  (None, None, 256)         328704    \n",
      "_________________________________________________________________\n",
      "dropout (Dropout)            (None, None, 256)         0         \n",
      "_________________________________________________________________\n",
      "batch_normalization (BatchNo (None, None, 256)         1024      \n",
      "_________________________________________________________________\n",
      "lstm_1 (LSTM)                (None, None, 256)         525312    \n",
      "_________________________________________________________________\n",
      "dropout_1 (Dropout)          (None, None, 256)         0         \n",
      "_________________________________________________________________\n",
      "batch_normalization_1 (Batch (None, None, 256)         1024      \n",
      "_________________________________________________________________\n",
      "lstm_2 (LSTM)                (None, 256)               525312    \n",
      "_________________________________________________________________\n",
      "dropout_2 (Dropout)          (None, 256)               0         \n",
      "_________________________________________________________________\n",
      "batch_normalization_2 (Batch (None, 256)               1024      \n",
      "_________________________________________________________________\n",
      "dense (Dense)                (None, 384)               98688     \n",
      "=================================================================\n",
      "Total params: 1,505,664\n",
      "Trainable params: 1,504,128\n",
      "Non-trainable params: 1,536\n",
      "_________________________________________________________________\n"
     ]
    }
   ],
   "source": [
    "description = 'paper_hparams_384classes_64embed_128batch_adam'\n",
    "\n",
    "model = MusicModel(\n",
    "    n_classes=384,\n",
    "    embed_dims=64,\n",
    "    rnn_size=256,\n",
    "    rnn_layers=3,\n",
    "    dense_size=None,\n",
    "    dense_layers=1,\n",
    "    dropout_rate=0.3,\n",
    "    batch_norm=True,\n",
    "    init_lr=None,\n",
    "    dense_activation='relu',\n",
    "    ckpt_dir='./training_checkpoints/{}'.format(description),\n",
    "    log_dir='./logs/{}'.format(description)\n",
    ")\n",
    "model.summary()"
   ]
  },
  {
   "cell_type": "markdown",
   "metadata": {},
   "source": [
    "# Create Dataset from Bach Chorales"
   ]
  },
  {
   "cell_type": "code",
   "execution_count": 4,
   "metadata": {},
   "outputs": [
    {
     "name": "stdout",
     "output_type": "stream",
     "text": [
      "Training Sequences: 283227\n",
      "Validation Sequences: 31470\n"
     ]
    }
   ],
   "source": [
    "data_path = './bach_chorales_midi/chorale_set_full/'\n",
    "\n",
    "midi_converter = DiscreteTimeMidiConverter()\n",
    "sequences = midi_converter.convert_folder(data_path)\n",
    "sequences, labels = sequence_utils.window(sequences, window_size=128)\n",
    "\n",
    "x_train, x_val, y_train, y_val = train_test_split(sequences, labels, test_size=0.1, shuffle=True)\n",
    "print('Training Sequences: {}\\nValidation Sequences: {}'.format(len(x_train), len(x_val)))\n",
    "\n",
    "batch_size = 128\n",
    "\n",
    "dataset = tf.data.Dataset.from_tensor_slices((x_train, y_train))\n",
    "dataset_val = tf.data.Dataset.from_tensor_slices((x_val, y_val))\n",
    "\n",
    "dataset = dataset.batch(batch_size, drop_remainder=True).prefetch(tf.data.experimental.AUTOTUNE)\n",
    "dataset_val = dataset_val.batch(batch_size, drop_remainder=True).prefetch(tf.data.experimental.AUTOTUNE)"
   ]
  },
  {
   "cell_type": "markdown",
   "metadata": {},
   "source": [
    "# Train Model on Dataset"
   ]
  },
  {
   "cell_type": "code",
   "execution_count": 5,
   "metadata": {},
   "outputs": [
    {
     "name": "stdout",
     "output_type": "stream",
     "text": [
      "Epoch 1/100\n",
      "2212/2212 [==============================] - 171s 77ms/step - loss: 1.6060 - sparse_categorical_accuracy: 0.5477 - val_loss: 1.0028 - val_sparse_categorical_accuracy: 0.6814\n",
      "Epoch 2/100\n",
      "2212/2212 [==============================] - 170s 77ms/step - loss: 1.0274 - sparse_categorical_accuracy: 0.6761 - val_loss: 0.8437 - val_sparse_categorical_accuracy: 0.7264\n",
      "Epoch 3/100\n",
      "2212/2212 [==============================] - 170s 77ms/step - loss: 0.9005 - sparse_categorical_accuracy: 0.7116 - val_loss: 0.7697 - val_sparse_categorical_accuracy: 0.7500\n",
      "Epoch 4/100\n",
      "2212/2212 [==============================] - 171s 77ms/step - loss: 0.8274 - sparse_categorical_accuracy: 0.7316 - val_loss: 0.7157 - val_sparse_categorical_accuracy: 0.7656\n",
      "Epoch 5/100\n",
      "2212/2212 [==============================] - 171s 78ms/step - loss: 0.7830 - sparse_categorical_accuracy: 0.7444 - val_loss: 0.6962 - val_sparse_categorical_accuracy: 0.7724\n",
      "Epoch 6/100\n",
      "2212/2212 [==============================] - 172s 78ms/step - loss: 0.7419 - sparse_categorical_accuracy: 0.7553 - val_loss: 0.6727 - val_sparse_categorical_accuracy: 0.7769\n",
      "Epoch 7/100\n",
      "2212/2212 [==============================] - 172s 78ms/step - loss: 0.7050 - sparse_categorical_accuracy: 0.7661 - val_loss: 0.6573 - val_sparse_categorical_accuracy: 0.7840\n",
      "Epoch 8/100\n",
      "2212/2212 [==============================] - 172s 78ms/step - loss: 0.6769 - sparse_categorical_accuracy: 0.7741 - val_loss: 0.6515 - val_sparse_categorical_accuracy: 0.7858\n",
      "Epoch 9/100\n",
      "2212/2212 [==============================] - 173s 78ms/step - loss: 0.6521 - sparse_categorical_accuracy: 0.7814 - val_loss: 0.6421 - val_sparse_categorical_accuracy: 0.7904\n",
      "Epoch 10/100\n",
      "2212/2212 [==============================] - 173s 78ms/step - loss: 0.6313 - sparse_categorical_accuracy: 0.7881 - val_loss: 0.6312 - val_sparse_categorical_accuracy: 0.7963\n",
      "Epoch 11/100\n",
      "2212/2212 [==============================] - 173s 78ms/step - loss: 0.6166 - sparse_categorical_accuracy: 0.7926 - val_loss: 0.6223 - val_sparse_categorical_accuracy: 0.7958\n",
      "Epoch 12/100\n",
      "2212/2212 [==============================] - 173s 78ms/step - loss: 0.5916 - sparse_categorical_accuracy: 0.8001 - val_loss: 0.6197 - val_sparse_categorical_accuracy: 0.7994\n",
      "Epoch 13/100\n",
      "2212/2212 [==============================] - 173s 78ms/step - loss: 0.5756 - sparse_categorical_accuracy: 0.8050 - val_loss: 0.6107 - val_sparse_categorical_accuracy: 0.8041\n",
      "Epoch 14/100\n",
      "2212/2212 [==============================] - 173s 78ms/step - loss: 0.5454 - sparse_categorical_accuracy: 0.8141 - val_loss: 0.6100 - val_sparse_categorical_accuracy: 0.8051\n",
      "Epoch 16/100\n",
      "2212/2212 [==============================] - 173s 78ms/step - loss: 0.5307 - sparse_categorical_accuracy: 0.8185 - val_loss: 0.6090 - val_sparse_categorical_accuracy: 0.8027\n",
      "Epoch 17/100\n",
      "2212/2212 [==============================] - 174s 78ms/step - loss: 0.5200 - sparse_categorical_accuracy: 0.8216 - val_loss: 0.6082 - val_sparse_categorical_accuracy: 0.8052\n",
      "Epoch 18/100\n",
      "2212/2212 [==============================] - 174s 78ms/step - loss: 0.5064 - sparse_categorical_accuracy: 0.8268 - val_loss: 0.6060 - val_sparse_categorical_accuracy: 0.8095\n",
      "Epoch 19/100\n",
      "2212/2212 [==============================] - 174s 79ms/step - loss: 0.4974 - sparse_categorical_accuracy: 0.8295 - val_loss: 0.6098 - val_sparse_categorical_accuracy: 0.8086\n",
      "Epoch 20/100\n",
      "2212/2212 [==============================] - 174s 79ms/step - loss: 0.4876 - sparse_categorical_accuracy: 0.8324 - val_loss: 0.6046 - val_sparse_categorical_accuracy: 0.8099\n",
      "Epoch 21/100\n",
      "2212/2212 [==============================] - 174s 79ms/step - loss: 0.5051 - sparse_categorical_accuracy: 0.8269 - val_loss: 0.6216 - val_sparse_categorical_accuracy: 0.8038\n",
      "Epoch 22/100\n",
      "2212/2212 [==============================] - 174s 79ms/step - loss: 0.4966 - sparse_categorical_accuracy: 0.8293 - val_loss: 0.6089 - val_sparse_categorical_accuracy: 0.8100\n",
      "Epoch 23/100\n",
      "2212/2212 [==============================] - 174s 79ms/step - loss: 0.4617 - sparse_categorical_accuracy: 0.8404 - val_loss: 0.6051 - val_sparse_categorical_accuracy: 0.8146\n",
      "Epoch 24/100\n",
      "2212/2212 [==============================] - 174s 79ms/step - loss: 0.4499 - sparse_categorical_accuracy: 0.8446 - val_loss: 0.6072 - val_sparse_categorical_accuracy: 0.8131\n",
      "Epoch 25/100\n",
      "2212/2212 [==============================] - 174s 79ms/step - loss: 0.4751 - sparse_categorical_accuracy: 0.8368 - val_loss: 0.6495 - val_sparse_categorical_accuracy: 0.7983\n",
      "Epoch 26/100\n",
      "2212/2212 [==============================] - 173s 78ms/step - loss: 0.4807 - sparse_categorical_accuracy: 0.8350 - val_loss: 0.6016 - val_sparse_categorical_accuracy: 0.8153\n",
      "Epoch 27/100\n",
      "2212/2212 [==============================] - 174s 78ms/step - loss: 0.4398 - sparse_categorical_accuracy: 0.8477 - val_loss: 0.6032 - val_sparse_categorical_accuracy: 0.8151\n",
      "Epoch 28/100\n",
      "2212/2212 [==============================] - 174s 79ms/step - loss: 0.4301 - sparse_categorical_accuracy: 0.8511 - val_loss: 0.6045 - val_sparse_categorical_accuracy: 0.8157\n",
      "Epoch 29/100\n",
      "2212/2212 [==============================] - 174s 78ms/step - loss: 0.4416 - sparse_categorical_accuracy: 0.8471 - val_loss: 0.6094 - val_sparse_categorical_accuracy: 0.8162\n",
      "Epoch 30/100\n",
      "2212/2212 [==============================] - 174s 79ms/step - loss: 0.4273 - sparse_categorical_accuracy: 0.8523 - val_loss: 0.6108 - val_sparse_categorical_accuracy: 0.8169\n",
      "Epoch 31/100\n",
      "2212/2212 [==============================] - 175s 79ms/step - loss: 0.4288 - sparse_categorical_accuracy: 0.8508 - val_loss: 0.6129 - val_sparse_categorical_accuracy: 0.8164\n",
      "Epoch 32/100\n",
      "2212/2212 [==============================] - 173s 78ms/step - loss: 0.4181 - sparse_categorical_accuracy: 0.8545 - val_loss: 0.6097 - val_sparse_categorical_accuracy: 0.8178\n",
      "Epoch 33/100\n",
      "2212/2212 [==============================] - 174s 79ms/step - loss: 0.4124 - sparse_categorical_accuracy: 0.8565 - val_loss: 0.6111 - val_sparse_categorical_accuracy: 0.8163\n",
      "Epoch 34/100\n",
      "2212/2212 [==============================] - 174s 79ms/step - loss: 0.4077 - sparse_categorical_accuracy: 0.8581 - val_loss: 0.6137 - val_sparse_categorical_accuracy: 0.8184\n",
      "Epoch 35/100\n",
      "2212/2212 [==============================] - 173s 78ms/step - loss: 0.4004 - sparse_categorical_accuracy: 0.8604 - val_loss: 0.6163 - val_sparse_categorical_accuracy: 0.8182\n",
      "Epoch 36/100\n",
      "2212/2212 [==============================] - 174s 79ms/step - loss: 0.3954 - sparse_categorical_accuracy: 0.8620 - val_loss: 0.6180 - val_sparse_categorical_accuracy: 0.8188\n",
      "Epoch 37/100\n",
      "2212/2212 [==============================] - 174s 79ms/step - loss: 0.3928 - sparse_categorical_accuracy: 0.8629 - val_loss: 0.6192 - val_sparse_categorical_accuracy: 0.8170\n",
      "Epoch 38/100\n",
      "2212/2212 [==============================] - 174s 79ms/step - loss: 0.3871 - sparse_categorical_accuracy: 0.8650 - val_loss: 0.6198 - val_sparse_categorical_accuracy: 0.8193\n",
      "Epoch 39/100\n",
      "2212/2212 [==============================] - 174s 79ms/step - loss: 0.3833 - sparse_categorical_accuracy: 0.8666 - val_loss: 0.6178 - val_sparse_categorical_accuracy: 0.8179\n",
      "Epoch 40/100\n",
      "2212/2212 [==============================] - 174s 79ms/step - loss: 0.3787 - sparse_categorical_accuracy: 0.8682 - val_loss: 0.6208 - val_sparse_categorical_accuracy: 0.8179\n",
      "Epoch 41/100\n",
      "2212/2212 [==============================] - 175s 79ms/step - loss: 0.3786 - sparse_categorical_accuracy: 0.8677 - val_loss: 0.6215 - val_sparse_categorical_accuracy: 0.8205\n",
      "Epoch 42/100\n",
      "2212/2212 [==============================] - 174s 79ms/step - loss: 0.3712 - sparse_categorical_accuracy: 0.8705 - val_loss: 0.6272 - val_sparse_categorical_accuracy: 0.8181\n",
      "Epoch 43/100\n",
      "2212/2212 [==============================] - 174s 79ms/step - loss: 0.3702 - sparse_categorical_accuracy: 0.8702 - val_loss: 0.6256 - val_sparse_categorical_accuracy: 0.8193\n",
      "Epoch 44/100\n",
      "2212/2212 [==============================] - 174s 78ms/step - loss: 0.3635 - sparse_categorical_accuracy: 0.8727 - val_loss: 0.6305 - val_sparse_categorical_accuracy: 0.8193\n",
      "Epoch 45/100\n",
      "2212/2212 [==============================] - 174s 79ms/step - loss: 0.3590 - sparse_categorical_accuracy: 0.8745 - val_loss: 0.6319 - val_sparse_categorical_accuracy: 0.8215\n",
      "Epoch 46/100\n",
      "2212/2212 [==============================] - 174s 79ms/step - loss: 0.3576 - sparse_categorical_accuracy: 0.8750 - val_loss: 0.6389 - val_sparse_categorical_accuracy: 0.8198\n",
      "Epoch 47/100\n",
      "2212/2212 [==============================] - 174s 79ms/step - loss: 0.3534 - sparse_categorical_accuracy: 0.8765 - val_loss: 0.6340 - val_sparse_categorical_accuracy: 0.8204\n",
      "Epoch 48/100\n",
      "2212/2212 [==============================] - 174s 79ms/step - loss: 0.3562 - sparse_categorical_accuracy: 0.8753 - val_loss: 0.6334 - val_sparse_categorical_accuracy: 0.8222\n",
      "Epoch 49/100\n",
      "2212/2212 [==============================] - 174s 79ms/step - loss: 0.3484 - sparse_categorical_accuracy: 0.8781 - val_loss: 0.6343 - val_sparse_categorical_accuracy: 0.8217\n",
      "Epoch 50/100\n",
      "2212/2212 [==============================] - 174s 79ms/step - loss: 0.3480 - sparse_categorical_accuracy: 0.8779 - val_loss: 0.6287 - val_sparse_categorical_accuracy: 0.8230\n",
      "Epoch 51/100\n",
      "2212/2212 [==============================] - 174s 79ms/step - loss: 0.3425 - sparse_categorical_accuracy: 0.8800 - val_loss: 0.6347 - val_sparse_categorical_accuracy: 0.8205\n",
      "Epoch 52/100\n",
      "2212/2212 [==============================] - 175s 79ms/step - loss: 0.3422 - sparse_categorical_accuracy: 0.8805 - val_loss: 0.6346 - val_sparse_categorical_accuracy: 0.8241\n",
      "Epoch 53/100\n",
      "2212/2212 [==============================] - 175s 79ms/step - loss: 0.3456 - sparse_categorical_accuracy: 0.8789 - val_loss: 0.6392 - val_sparse_categorical_accuracy: 0.8202\n",
      "Epoch 54/100\n",
      "2212/2212 [==============================] - 174s 79ms/step - loss: 0.3395 - sparse_categorical_accuracy: 0.8814 - val_loss: 0.6412 - val_sparse_categorical_accuracy: 0.8246\n",
      "Epoch 55/100\n",
      "2212/2212 [==============================] - 175s 79ms/step - loss: 0.3348 - sparse_categorical_accuracy: 0.8831 - val_loss: 0.6374 - val_sparse_categorical_accuracy: 0.8253\n",
      "Epoch 56/100\n",
      "2212/2212 [==============================] - 174s 79ms/step - loss: 0.3312 - sparse_categorical_accuracy: 0.8839 - val_loss: 0.6425 - val_sparse_categorical_accuracy: 0.8230\n",
      "Epoch 57/100\n",
      "2212/2212 [==============================] - 175s 79ms/step - loss: 0.3354 - sparse_categorical_accuracy: 0.8821 - val_loss: 0.6440 - val_sparse_categorical_accuracy: 0.8227\n",
      "Epoch 58/100\n",
      "2212/2212 [==============================] - 175s 79ms/step - loss: 0.3248 - sparse_categorical_accuracy: 0.8858 - val_loss: 0.6456 - val_sparse_categorical_accuracy: 0.8239\n",
      "Epoch 59/100\n",
      "2212/2212 [==============================] - 175s 79ms/step - loss: 0.3214 - sparse_categorical_accuracy: 0.8868 - val_loss: 0.6454 - val_sparse_categorical_accuracy: 0.8248\n",
      "Epoch 60/100\n",
      "2212/2212 [==============================] - 174s 79ms/step - loss: 0.3169 - sparse_categorical_accuracy: 0.8883 - val_loss: 0.6559 - val_sparse_categorical_accuracy: 0.8253\n",
      "Epoch 61/100\n",
      "2212/2212 [==============================] - 174s 79ms/step - loss: 0.3161 - sparse_categorical_accuracy: 0.8890 - val_loss: 0.6542 - val_sparse_categorical_accuracy: 0.8223\n",
      "Epoch 62/100\n",
      "2212/2212 [==============================] - 174s 79ms/step - loss: 0.3179 - sparse_categorical_accuracy: 0.8887 - val_loss: 0.6473 - val_sparse_categorical_accuracy: 0.8258\n",
      "Epoch 63/100\n",
      "2212/2212 [==============================] - 175s 79ms/step - loss: 0.3208 - sparse_categorical_accuracy: 0.8874 - val_loss: 0.6518 - val_sparse_categorical_accuracy: 0.8244\n",
      "Epoch 64/100\n",
      "2212/2212 [==============================] - 174s 79ms/step - loss: 0.3199 - sparse_categorical_accuracy: 0.8883 - val_loss: 0.6438 - val_sparse_categorical_accuracy: 0.8259\n",
      "Epoch 65/100\n",
      "2212/2212 [==============================] - 175s 79ms/step - loss: 0.3135 - sparse_categorical_accuracy: 0.8897 - val_loss: 0.6539 - val_sparse_categorical_accuracy: 0.8253\n",
      "Epoch 66/100\n",
      "2212/2212 [==============================] - 175s 79ms/step - loss: 0.3213 - sparse_categorical_accuracy: 0.8874 - val_loss: 0.6469 - val_sparse_categorical_accuracy: 0.8260\n",
      "Epoch 67/100\n",
      "2212/2212 [==============================] - 175s 79ms/step - loss: 0.3153 - sparse_categorical_accuracy: 0.8890 - val_loss: 0.6518 - val_sparse_categorical_accuracy: 0.8254\n",
      "Epoch 68/100\n",
      "2212/2212 [==============================] - 175s 79ms/step - loss: 0.3485 - sparse_categorical_accuracy: 0.8787 - val_loss: 0.6420 - val_sparse_categorical_accuracy: 0.8272\n",
      "Epoch 69/100\n",
      "2212/2212 [==============================] - 177s 80ms/step - loss: 0.3087 - sparse_categorical_accuracy: 0.8913 - val_loss: 0.6520 - val_sparse_categorical_accuracy: 0.8263\n",
      "Epoch 70/100\n",
      "2212/2212 [==============================] - 177s 80ms/step - loss: 0.2976 - sparse_categorical_accuracy: 0.8951 - val_loss: 0.6620 - val_sparse_categorical_accuracy: 0.8266\n",
      "Epoch 71/100\n",
      "2212/2212 [==============================] - 176s 80ms/step - loss: 0.3011 - sparse_categorical_accuracy: 0.8940 - val_loss: 0.6509 - val_sparse_categorical_accuracy: 0.8261\n",
      "Epoch 72/100\n",
      "2212/2212 [==============================] - 176s 80ms/step - loss: 0.3068 - sparse_categorical_accuracy: 0.8920 - val_loss: 0.6546 - val_sparse_categorical_accuracy: 0.8257\n",
      "Epoch 73/100\n",
      "2212/2212 [==============================] - 177s 80ms/step - loss: 0.3053 - sparse_categorical_accuracy: 0.8928 - val_loss: 0.6634 - val_sparse_categorical_accuracy: 0.8275\n",
      "Epoch 74/100\n",
      "2212/2212 [==============================] - 176s 79ms/step - loss: 0.3049 - sparse_categorical_accuracy: 0.8929 - val_loss: 0.6531 - val_sparse_categorical_accuracy: 0.8265\n",
      "Epoch 75/100\n",
      "2212/2212 [==============================] - 176s 79ms/step - loss: 0.3194 - sparse_categorical_accuracy: 0.8886 - val_loss: 0.6470 - val_sparse_categorical_accuracy: 0.8256\n",
      "Epoch 76/100\n",
      "2212/2212 [==============================] - 176s 79ms/step - loss: 0.3039 - sparse_categorical_accuracy: 0.8937 - val_loss: 0.6523 - val_sparse_categorical_accuracy: 0.8256\n",
      "Epoch 77/100\n",
      "2212/2212 [==============================] - 175s 79ms/step - loss: 0.2977 - sparse_categorical_accuracy: 0.8951 - val_loss: 0.6547 - val_sparse_categorical_accuracy: 0.8263\n",
      "Epoch 78/100\n",
      "2212/2212 [==============================] - 176s 79ms/step - loss: 0.3045 - sparse_categorical_accuracy: 0.8925 - val_loss: 0.6566 - val_sparse_categorical_accuracy: 0.8241\n",
      "Epoch 79/100\n",
      "2212/2212 [==============================] - 176s 80ms/step - loss: 0.3040 - sparse_categorical_accuracy: 0.8934 - val_loss: 0.6599 - val_sparse_categorical_accuracy: 0.8273\n",
      "Epoch 80/100\n",
      "2212/2212 [==============================] - 176s 80ms/step - loss: 0.2968 - sparse_categorical_accuracy: 0.8954 - val_loss: 0.6589 - val_sparse_categorical_accuracy: 0.8263\n",
      "Epoch 81/100\n",
      "2212/2212 [==============================] - 176s 80ms/step - loss: 0.2971 - sparse_categorical_accuracy: 0.8959 - val_loss: 0.6633 - val_sparse_categorical_accuracy: 0.8257\n",
      "Epoch 82/100\n",
      "2212/2212 [==============================] - 176s 79ms/step - loss: 0.2976 - sparse_categorical_accuracy: 0.8954 - val_loss: 0.6624 - val_sparse_categorical_accuracy: 0.8257\n",
      "Epoch 83/100\n",
      "2212/2212 [==============================] - 176s 80ms/step - loss: 0.2967 - sparse_categorical_accuracy: 0.8953 - val_loss: 0.6584 - val_sparse_categorical_accuracy: 0.8260\n",
      "Epoch 84/100\n",
      "2212/2212 [==============================] - 175s 79ms/step - loss: 0.2936 - sparse_categorical_accuracy: 0.8970 - val_loss: 0.6614 - val_sparse_categorical_accuracy: 0.8266\n",
      "Epoch 85/100\n",
      "2212/2212 [==============================] - 175s 79ms/step - loss: 0.2947 - sparse_categorical_accuracy: 0.8963 - val_loss: 0.6591 - val_sparse_categorical_accuracy: 0.8270\n",
      "Epoch 86/100\n",
      "2212/2212 [==============================] - 176s 79ms/step - loss: 0.2914 - sparse_categorical_accuracy: 0.8972 - val_loss: 0.6628 - val_sparse_categorical_accuracy: 0.8248\n",
      "Epoch 87/100\n",
      "2212/2212 [==============================] - 175s 79ms/step - loss: 0.2908 - sparse_categorical_accuracy: 0.8975 - val_loss: 0.6640 - val_sparse_categorical_accuracy: 0.8268\n",
      "Epoch 88/100\n",
      "2212/2212 [==============================] - 176s 79ms/step - loss: 0.2850 - sparse_categorical_accuracy: 0.8992 - val_loss: 0.6606 - val_sparse_categorical_accuracy: 0.8276\n",
      "Epoch 89/100\n",
      "2212/2212 [==============================] - 175s 79ms/step - loss: 0.2865 - sparse_categorical_accuracy: 0.8990 - val_loss: 0.6703 - val_sparse_categorical_accuracy: 0.8242\n",
      "Epoch 90/100\n",
      "2212/2212 [==============================] - 176s 80ms/step - loss: 0.2892 - sparse_categorical_accuracy: 0.8981 - val_loss: 0.6665 - val_sparse_categorical_accuracy: 0.8268\n",
      "Epoch 91/100\n",
      "2212/2212 [==============================] - 176s 80ms/step - loss: 0.2862 - sparse_categorical_accuracy: 0.8994 - val_loss: 0.6610 - val_sparse_categorical_accuracy: 0.8255\n",
      "Epoch 92/100\n",
      "2212/2212 [==============================] - 177s 80ms/step - loss: 0.2832 - sparse_categorical_accuracy: 0.9004 - val_loss: 0.6717 - val_sparse_categorical_accuracy: 0.8258\n",
      "Epoch 93/100\n",
      "2212/2212 [==============================] - 176s 80ms/step - loss: 0.2841 - sparse_categorical_accuracy: 0.9000 - val_loss: 0.6701 - val_sparse_categorical_accuracy: 0.8272\n",
      "Epoch 94/100\n",
      "2212/2212 [==============================] - 176s 80ms/step - loss: 0.2872 - sparse_categorical_accuracy: 0.8995 - val_loss: 0.6727 - val_sparse_categorical_accuracy: 0.8278\n",
      "Epoch 95/100\n",
      "2212/2212 [==============================] - 177s 80ms/step - loss: 0.2790 - sparse_categorical_accuracy: 0.9015 - val_loss: 0.6734 - val_sparse_categorical_accuracy: 0.8261\n",
      "Epoch 96/100\n",
      "2212/2212 [==============================] - 177s 80ms/step - loss: 0.2797 - sparse_categorical_accuracy: 0.9011 - val_loss: 0.6810 - val_sparse_categorical_accuracy: 0.8254\n",
      "Epoch 97/100\n",
      "2212/2212 [==============================] - 177s 80ms/step - loss: 0.2787 - sparse_categorical_accuracy: 0.9023 - val_loss: 0.6779 - val_sparse_categorical_accuracy: 0.8260\n",
      "Epoch 98/100\n",
      "2212/2212 [==============================] - 176s 80ms/step - loss: 0.2792 - sparse_categorical_accuracy: 0.9015 - val_loss: 0.6770 - val_sparse_categorical_accuracy: 0.8266\n",
      "Epoch 99/100\n",
      "2212/2212 [==============================] - 177s 80ms/step - loss: 0.2773 - sparse_categorical_accuracy: 0.9023 - val_loss: 0.6776 - val_sparse_categorical_accuracy: 0.8275\n",
      "Epoch 100/100\n",
      "2212/2212 [==============================] - 177s 80ms/step - loss: 0.2759 - sparse_categorical_accuracy: 0.9028 - val_loss: 0.6809 - val_sparse_categorical_accuracy: 0.8268\n"
     ]
    }
   ],
   "source": [
    "epochs = 100\n",
    "history = model.fit(dataset,\n",
    "                    val_data=dataset_val,\n",
    "                    epochs=epochs,\n",
    "                    verbose=1)"
   ]
  },
  {
   "cell_type": "markdown",
   "metadata": {},
   "source": [
    "# Sample from model"
   ]
  },
  {
   "cell_type": "code",
   "execution_count": 6,
   "metadata": {},
   "outputs": [],
   "source": [
    "# sample 5 midi sequences, of length 1000 events, from the model with a middle-C note as the seed\n",
    "for i in range(5):\n",
    "    seed = [60]\n",
    "    generated_sequence = model.generate_sequence(1000, seed)\n",
    "    midi_converter.convert_to_file(generated_sequence, './generated files/{}'.format(description), 'sample{}.mid'.format(i))"
   ]
  }
 ],
 "metadata": {
  "kernelspec": {
   "display_name": "tensorflow2",
   "language": "python",
   "name": "tensorflow2"
  },
  "language_info": {
   "codemirror_mode": {
    "name": "ipython",
    "version": 3
   },
   "file_extension": ".py",
   "mimetype": "text/x-python",
   "name": "python",
   "nbconvert_exporter": "python",
   "pygments_lexer": "ipython3",
   "version": "3.7.6"
  }
 },
 "nbformat": 4,
 "nbformat_minor": 4
}
